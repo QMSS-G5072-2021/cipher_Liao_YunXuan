{
 "cells": [
  {
   "cell_type": "markdown",
   "id": "2991376a",
   "metadata": {},
   "source": [
    "# HW04"
   ]
  },
  {
   "cell_type": "markdown",
   "id": "ce39a04f",
   "metadata": {},
   "source": [
    "## 1"
   ]
  },
  {
   "cell_type": "code",
   "execution_count": 19,
   "id": "640e5373",
   "metadata": {},
   "outputs": [],
   "source": [
    "class Recipe():\n",
    "    def __init__(self, name=\"\", ingredients={}, meal =\"\", time=1):\n",
    "        self.name=name\n",
    "        self.ingredients=ingredients\n",
    "        self.meal=meal\n",
    "        self.time=time\n",
    "        \n",
    "    def __str__(self):\n",
    "        return \"Name: \"+self.name+\"\\n\"+\"Time: \"+str(self.time)+\"mins \\n\"+\"Meal type: \"+self.meal\n",
    "\n",
    "    def weight(self):\n",
    "        return \"The total weight of all ingredients combined for \"+self.name+\" is \"+str(sum(self.ingredients.values()))+\" grams\"\n",
    "    "
   ]
  },
  {
   "cell_type": "code",
   "execution_count": 20,
   "id": "a8b6f1bf",
   "metadata": {},
   "outputs": [],
   "source": [
    "recipe1=Recipe(\"Milk Tea\", {\"milk\":80, \"red tea\":40, \"sugar\":5}, \"dessert\", 10)\n",
    "recipe2=Recipe(\"Chocolate Chip Cookie\", {\"chocolate\":20, \"flour\":60, \"butter\":20, \"sugar\":10}, \"dessert\", 60)\n",
    "recipe3=Recipe(\"Straberry Shortcake\", {\"flour\":100, \"butter\":20, \"milk\":30, \"sugar\":10, \"cream\":5}, \"dessert\", 90)\n",
    "recipe4=Recipe(\"Tofu Stew \", {\"tofu\":30, \"kimchi\":10, \"pepper\":10, \"egg\":10, \"soy sauce\":5}, \"dinner\", 40)\n",
    "recipe5=Recipe(\"Mashed Potato\", {\"potato\":80, \"butter\":20, \"milk\":20, \"cream\":10, \"garlic\":10}, \"dinner\", 30)"
   ]
  },
  {
   "cell_type": "code",
   "execution_count": 11,
   "id": "79a76ba8",
   "metadata": {},
   "outputs": [
    {
     "name": "stdout",
     "output_type": "stream",
     "text": [
      "Name: Milk Tea\n",
      "Time: 10mins \n",
      "Meal type: dessert\n",
      "\n",
      "Name: Chocolate Chip Cookie\n",
      "Time: 60mins \n",
      "Meal type: dessert\n",
      "\n",
      "Name: Straberry Shortcake\n",
      "Time: 90mins \n",
      "Meal type: dessert\n",
      "\n",
      "Name: Tofu Stew \n",
      "Time: 40mins \n",
      "Meal type: dinner\n",
      "\n",
      "Name: Mashed Potato\n",
      "Time: 30mins \n",
      "Meal type: dinner\n"
     ]
    }
   ],
   "source": [
    "print(recipe1,recipe2,recipe3,recipe4,recipe5, sep=\"\\n\\n\")"
   ]
  },
  {
   "cell_type": "code",
   "execution_count": 21,
   "id": "5c9315e9",
   "metadata": {},
   "outputs": [
    {
     "data": {
      "text/plain": [
       "'The total weight of all ingredients combined for Milk Tea is 125 grams'"
      ]
     },
     "execution_count": 21,
     "metadata": {},
     "output_type": "execute_result"
    }
   ],
   "source": [
    "recipe1.weight()"
   ]
  },
  {
   "cell_type": "markdown",
   "id": "0ba27f00",
   "metadata": {},
   "source": [
    "## 2"
   ]
  },
  {
   "cell_type": "code",
   "execution_count": 78,
   "id": "a76b09d6",
   "metadata": {},
   "outputs": [],
   "source": [
    "class Cookbook:\n",
    "    def __init__(self, recipes=[]):\n",
    "        self.recipes=recipes\n",
    "        \n",
    "    def get_meal_type(self, meal_type):\n",
    "        recipetype=[]\n",
    "        for i in self.recipes:\n",
    "            if i.meal==meal_type:\n",
    "                recipetype.append(i)\n",
    "        name=[]\n",
    "        for i in recipetype:\n",
    "            name.append(i.name)\n",
    "        return name\n",
    "    \n",
    "    def ingredient_at_home(self, available_ingredients=[], match_all=True):\n",
    "        if match_all==True:\n",
    "            return [i.name \n",
    "                    for i in self.recipes \n",
    "                    if i.ingredients in available_ingredients]\n",
    "        if match_all==False:\n",
    "            return [i.name \n",
    "                    for i in self.recipes \n",
    "                    for n in available_ingredients\n",
    "                    if n in i.ingredients]"
   ]
  },
  {
   "cell_type": "code",
   "execution_count": 79,
   "id": "275af2df",
   "metadata": {},
   "outputs": [],
   "source": [
    "myCookbook=Cookbook([recipe1,recipe2,recipe3,recipe4,recipe5])"
   ]
  },
  {
   "cell_type": "code",
   "execution_count": 61,
   "id": "f31a7ba1",
   "metadata": {},
   "outputs": [
    {
     "data": {
      "text/plain": [
       "['Milk Tea', 'Chocolate Chip Cookie', 'Straberry Shortcake']"
      ]
     },
     "execution_count": 61,
     "metadata": {},
     "output_type": "execute_result"
    }
   ],
   "source": [
    "myCookbook.get_meal_type(\"dessert\")"
   ]
  },
  {
   "cell_type": "code",
   "execution_count": 81,
   "id": "a97ba6fc",
   "metadata": {},
   "outputs": [
    {
     "name": "stdout",
     "output_type": "stream",
     "text": [
      "[]\n"
     ]
    }
   ],
   "source": [
    "meal1=myCookbook.ingredient_at_home([\"milk\"],True)\n",
    "print(meal1)"
   ]
  },
  {
   "cell_type": "code",
   "execution_count": 80,
   "id": "1a05f782",
   "metadata": {},
   "outputs": [
    {
     "name": "stdout",
     "output_type": "stream",
     "text": [
      "['Milk Tea', 'Straberry Shortcake', 'Mashed Potato']\n"
     ]
    }
   ],
   "source": [
    "meal2=myCookbook.ingredient_at_home([\"milk\"],False)\n",
    "print(meal2)"
   ]
  },
  {
   "cell_type": "code",
   "execution_count": null,
   "id": "7982a2b9",
   "metadata": {},
   "outputs": [],
   "source": []
  }
 ],
 "metadata": {
  "kernelspec": {
   "display_name": "Python 3",
   "language": "python",
   "name": "python3"
  },
  "language_info": {
   "codemirror_mode": {
    "name": "ipython",
    "version": 3
   },
   "file_extension": ".py",
   "mimetype": "text/x-python",
   "name": "python",
   "nbconvert_exporter": "python",
   "pygments_lexer": "ipython3",
   "version": "3.8.8"
  }
 },
 "nbformat": 4,
 "nbformat_minor": 5
}
