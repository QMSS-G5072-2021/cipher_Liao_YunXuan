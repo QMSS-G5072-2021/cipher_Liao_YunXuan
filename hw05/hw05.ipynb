{
 "cells": [
  {
   "cell_type": "markdown",
   "id": "f9612339",
   "metadata": {},
   "source": [
    "# HW05"
   ]
  },
  {
   "cell_type": "markdown",
   "id": "68ad8f1c",
   "metadata": {},
   "source": [
    "## a)"
   ]
  },
  {
   "cell_type": "code",
   "execution_count": 1,
   "id": "2eea517a",
   "metadata": {},
   "outputs": [
    {
     "data": {
      "text/html": [
       "<div>\n",
       "<style scoped>\n",
       "    .dataframe tbody tr th:only-of-type {\n",
       "        vertical-align: middle;\n",
       "    }\n",
       "\n",
       "    .dataframe tbody tr th {\n",
       "        vertical-align: top;\n",
       "    }\n",
       "\n",
       "    .dataframe thead th {\n",
       "        text-align: right;\n",
       "    }\n",
       "</style>\n",
       "<table border=\"1\" class=\"dataframe\">\n",
       "  <thead>\n",
       "    <tr style=\"text-align: right;\">\n",
       "      <th></th>\n",
       "      <th>description</th>\n",
       "    </tr>\n",
       "  </thead>\n",
       "  <tbody>\n",
       "    <tr>\n",
       "      <th>0</th>\n",
       "      <td>10 MO F FELL OUT OF SHOPPING CART;DX FRACTURED...</td>\n",
       "    </tr>\n",
       "    <tr>\n",
       "      <th>1</th>\n",
       "      <td>75YOF WITH LAC TO FINGER FROM METAL CAN</td>\n",
       "    </tr>\n",
       "    <tr>\n",
       "      <th>2</th>\n",
       "      <td>8YOF FRACTURED FINGER FELL OFF HER BIKE</td>\n",
       "    </tr>\n",
       "    <tr>\n",
       "      <th>3</th>\n",
       "      <td>9 YOM TACKLED DURING FOOTBALL PRACTICE.  DX: C...</td>\n",
       "    </tr>\n",
       "    <tr>\n",
       "      <th>4</th>\n",
       "      <td>PT WAS HIT ON RT SIDE WHILE PLAYING FOOTBALL D...</td>\n",
       "    </tr>\n",
       "  </tbody>\n",
       "</table>\n",
       "</div>"
      ],
      "text/plain": [
       "                                         description\n",
       "0  10 MO F FELL OUT OF SHOPPING CART;DX FRACTURED...\n",
       "1           75YOF WITH LAC TO FINGER FROM METAL CAN \n",
       "2           8YOF FRACTURED FINGER FELL OFF HER BIKE \n",
       "3  9 YOM TACKLED DURING FOOTBALL PRACTICE.  DX: C...\n",
       "4  PT WAS HIT ON RT SIDE WHILE PLAYING FOOTBALL D..."
      ]
     },
     "execution_count": 1,
     "metadata": {},
     "output_type": "execute_result"
    }
   ],
   "source": [
    "import numpy as np\n",
    "import pandas as pd\n",
    "import re\n",
    "import matplotlib.pyplot as plt\n",
    "import seaborn as sns\n",
    "emergency=pd.read_csv(r'/Users/liaonicole/Desktop/Liao_YunXuan/hw05/data/emergency.csv',names=['description'])\n",
    "emergency.head()"
   ]
  },
  {
   "cell_type": "code",
   "execution_count": 2,
   "id": "2f185507",
   "metadata": {},
   "outputs": [
    {
     "data": {
      "text/html": [
       "<div>\n",
       "<style scoped>\n",
       "    .dataframe tbody tr th:only-of-type {\n",
       "        vertical-align: middle;\n",
       "    }\n",
       "\n",
       "    .dataframe tbody tr th {\n",
       "        vertical-align: top;\n",
       "    }\n",
       "\n",
       "    .dataframe thead th {\n",
       "        text-align: right;\n",
       "    }\n",
       "</style>\n",
       "<table border=\"1\" class=\"dataframe\">\n",
       "  <thead>\n",
       "    <tr style=\"text-align: right;\">\n",
       "      <th></th>\n",
       "      <th>description</th>\n",
       "      <th>length</th>\n",
       "    </tr>\n",
       "  </thead>\n",
       "  <tbody>\n",
       "    <tr>\n",
       "      <th>109</th>\n",
       "      <td>40YOM-C/O FOOT/HEEL PAIN RUNNIJNG BACKWARDS FE...</td>\n",
       "      <td>143</td>\n",
       "    </tr>\n",
       "    <tr>\n",
       "      <th>511</th>\n",
       "      <td>19MOWF  PARENTS HOLDING PT.  DAD STATES SHE WA...</td>\n",
       "      <td>143</td>\n",
       "    </tr>\n",
       "    <tr>\n",
       "      <th>630</th>\n",
       "      <td>44YOF  PT HAVING SEVERE R ARM PAIN THAT IS RAD...</td>\n",
       "      <td>143</td>\n",
       "    </tr>\n",
       "    <tr>\n",
       "      <th>920</th>\n",
       "      <td>57 YO F WAS POURING KEROSENE OVER AN OPEN FLAM...</td>\n",
       "      <td>143</td>\n",
       "    </tr>\n",
       "    <tr>\n",
       "      <th>1111</th>\n",
       "      <td>13YOM DID OUTDOOR WORKOUT X1 1/2 HRS, DEVELOEP...</td>\n",
       "      <td>143</td>\n",
       "    </tr>\n",
       "    <tr>\n",
       "      <th>...</th>\n",
       "      <td>...</td>\n",
       "      <td>...</td>\n",
       "    </tr>\n",
       "    <tr>\n",
       "      <th>9370</th>\n",
       "      <td>20 YO M, RUNNING FROM POLICE AFTER AN ALLEGED ...</td>\n",
       "      <td>143</td>\n",
       "    </tr>\n",
       "    <tr>\n",
       "      <th>9666</th>\n",
       "      <td>22YOM WAS LIGHTING PROPANE PIZZA OVEN ON FRI. ...</td>\n",
       "      <td>143</td>\n",
       "    </tr>\n",
       "    <tr>\n",
       "      <th>9670</th>\n",
       "      <td>45YOWM  TONIGHT PT WAS TRYING TO MOVE HIS FATH...</td>\n",
       "      <td>143</td>\n",
       "    </tr>\n",
       "    <tr>\n",
       "      <th>9749</th>\n",
       "      <td>PT.INJ.NOSE,HAND,WRIST,ELBOW WHEN RIDING BIKE ...</td>\n",
       "      <td>143</td>\n",
       "    </tr>\n",
       "    <tr>\n",
       "      <th>9853</th>\n",
       "      <td>15YF ON BUS TO SOCCER GAME&amp;NOTICED \"FUNNY SMEL...</td>\n",
       "      <td>143</td>\n",
       "    </tr>\n",
       "  </tbody>\n",
       "</table>\n",
       "<p>66 rows × 2 columns</p>\n",
       "</div>"
      ],
      "text/plain": [
       "                                            description  length\n",
       "109   40YOM-C/O FOOT/HEEL PAIN RUNNIJNG BACKWARDS FE...     143\n",
       "511   19MOWF  PARENTS HOLDING PT.  DAD STATES SHE WA...     143\n",
       "630   44YOF  PT HAVING SEVERE R ARM PAIN THAT IS RAD...     143\n",
       "920   57 YO F WAS POURING KEROSENE OVER AN OPEN FLAM...     143\n",
       "1111  13YOM DID OUTDOOR WORKOUT X1 1/2 HRS, DEVELOEP...     143\n",
       "...                                                 ...     ...\n",
       "9370  20 YO M, RUNNING FROM POLICE AFTER AN ALLEGED ...     143\n",
       "9666  22YOM WAS LIGHTING PROPANE PIZZA OVEN ON FRI. ...     143\n",
       "9670  45YOWM  TONIGHT PT WAS TRYING TO MOVE HIS FATH...     143\n",
       "9749  PT.INJ.NOSE,HAND,WRIST,ELBOW WHEN RIDING BIKE ...     143\n",
       "9853  15YF ON BUS TO SOCCER GAME&NOTICED \"FUNNY SMEL...     143\n",
       "\n",
       "[66 rows x 2 columns]"
      ]
     },
     "execution_count": 2,
     "metadata": {},
     "output_type": "execute_result"
    }
   ],
   "source": [
    "emergency['length']=emergency.description.str.len()\n",
    "emergency[emergency['length'] == emergency['length'].max()]"
   ]
  },
  {
   "cell_type": "code",
   "execution_count": 3,
   "id": "955eee33",
   "metadata": {},
   "outputs": [
    {
     "data": {
      "text/html": [
       "<div>\n",
       "<style scoped>\n",
       "    .dataframe tbody tr th:only-of-type {\n",
       "        vertical-align: middle;\n",
       "    }\n",
       "\n",
       "    .dataframe tbody tr th {\n",
       "        vertical-align: top;\n",
       "    }\n",
       "\n",
       "    .dataframe thead th {\n",
       "        text-align: right;\n",
       "    }\n",
       "</style>\n",
       "<table border=\"1\" class=\"dataframe\">\n",
       "  <thead>\n",
       "    <tr style=\"text-align: right;\">\n",
       "      <th></th>\n",
       "      <th>description</th>\n",
       "      <th>length</th>\n",
       "    </tr>\n",
       "  </thead>\n",
       "  <tbody>\n",
       "    <tr>\n",
       "      <th>7127</th>\n",
       "      <td>ABR HIP ON FLOOR</td>\n",
       "      <td>17</td>\n",
       "    </tr>\n",
       "    <tr>\n",
       "      <th>7731</th>\n",
       "      <td>INGESTION OF ***</td>\n",
       "      <td>17</td>\n",
       "    </tr>\n",
       "  </tbody>\n",
       "</table>\n",
       "</div>"
      ],
      "text/plain": [
       "            description  length\n",
       "7127  ABR HIP ON FLOOR       17\n",
       "7731  INGESTION OF ***       17"
      ]
     },
     "execution_count": 3,
     "metadata": {},
     "output_type": "execute_result"
    }
   ],
   "source": [
    "emergency[emergency['length'] == emergency['length'].min()]"
   ]
  },
  {
   "cell_type": "markdown",
   "id": "ffa47d68",
   "metadata": {},
   "source": [
    "## b)"
   ]
  },
  {
   "cell_type": "code",
   "execution_count": 4,
   "id": "8cdb41f8",
   "metadata": {},
   "outputs": [],
   "source": [
    "fracture=emergency[emergency.iloc[:,0].str.contains(r'FRAC\\w*|FX')] \n"
   ]
  },
  {
   "cell_type": "markdown",
   "id": "44eeb514",
   "metadata": {},
   "source": [
    "## c)"
   ]
  },
  {
   "cell_type": "code",
   "execution_count": 5,
   "id": "24fe1a08",
   "metadata": {},
   "outputs": [
    {
     "name": "stdout",
     "output_type": "stream",
     "text": [
      "{'FINGER': [144], 'FOOT': [175], 'KNEE': [34], 'TOE': [79], 'ANKLE': [130], 'LEG': [70], 'WRIST': [147], 'ELBOW': [84], 'HAND': [143], 'ARM': [168], 'HIP': [84]}\n"
     ]
    }
   ],
   "source": [
    "fracture=emergency[emergency.iloc[:,0].str.contains(r'FRAC\\w*|FX')] \n",
    "parts=['FINGER','FOOT','KNEE','TOE','ANKLE','LEG','WRIST','ELBOW','HAND','ARM','HIP']\n",
    "\n",
    "fractureParts={}\n",
    "for i in parts:\n",
    "    frequency=sum(fracture.iloc[:,0].str.contains(i))\n",
    "    fractureParts[i] = [frequency]\n",
    "print(fractureParts)"
   ]
  },
  {
   "cell_type": "code",
   "execution_count": 6,
   "id": "444755db",
   "metadata": {},
   "outputs": [
    {
     "data": {
      "text/plain": [
       "Text(0, 0.5, 'Frequency')"
      ]
     },
     "execution_count": 6,
     "metadata": {},
     "output_type": "execute_result"
    },
    {
     "data": {
      "image/png": "[encoded data removed]",
      "text/plain": [
       "<Figure size 432x288 with 1 Axes>"
      ]
     },
     "metadata": {
      "needs_background": "light"
     },
     "output_type": "display_data"
    }
   ],
   "source": [
    "fracturePartsdf=pd.DataFrame.from_dict(fractureParts)\n",
    "fracturePartsdf.plot(kind = 'bar')\n",
    "plt.title (\"Body Fracture Parts\")\n",
    "plt.xlabel (\"Body Parts\")\n",
    "plt.ylabel (\"Frequency\")"
   ]
  },
  {
   "cell_type": "markdown",
   "id": "0e93a7cb",
   "metadata": {},
   "source": [
    "## d)"
   ]
  },
  {
   "cell_type": "code",
   "execution_count": 7,
   "id": "41742b60",
   "metadata": {},
   "outputs": [
    {
     "data": {
      "text/html": [
       "<div>\n",
       "<style scoped>\n",
       "    .dataframe tbody tr th:only-of-type {\n",
       "        vertical-align: middle;\n",
       "    }\n",
       "\n",
       "    .dataframe tbody tr th {\n",
       "        vertical-align: top;\n",
       "    }\n",
       "\n",
       "    .dataframe thead th {\n",
       "        text-align: right;\n",
       "    }\n",
       "</style>\n",
       "<table border=\"1\" class=\"dataframe\">\n",
       "  <thead>\n",
       "    <tr style=\"text-align: right;\">\n",
       "      <th></th>\n",
       "      <th>description</th>\n",
       "    </tr>\n",
       "  </thead>\n",
       "  <tbody>\n",
       "    <tr>\n",
       "      <th>0</th>\n",
       "      <td>10 MO F FELL OUT OF SHOPPING CART;DX FRACTURED...</td>\n",
       "    </tr>\n",
       "    <tr>\n",
       "      <th>1</th>\n",
       "      <td>75YOF WITH LAC TO FINGER FROM METAL CAN</td>\n",
       "    </tr>\n",
       "    <tr>\n",
       "      <th>2</th>\n",
       "      <td>8YOF FRACTURED FINGER FELL OFF HER BIKE</td>\n",
       "    </tr>\n",
       "    <tr>\n",
       "      <th>3</th>\n",
       "      <td>9 YOM TACKLED DURING FOOTBALL PRACTICE.  DX: C...</td>\n",
       "    </tr>\n",
       "    <tr>\n",
       "      <th>4</th>\n",
       "      <td>PT WAS HIT ON RT SIDE WHILE PLAYING FOOTBALL D...</td>\n",
       "    </tr>\n",
       "  </tbody>\n",
       "</table>\n",
       "</div>"
      ],
      "text/plain": [
       "                                         description\n",
       "0  10 MO F FELL OUT OF SHOPPING CART;DX FRACTURED...\n",
       "1           75YOF WITH LAC TO FINGER FROM METAL CAN \n",
       "2           8YOF FRACTURED FINGER FELL OFF HER BIKE \n",
       "3  9 YOM TACKLED DURING FOOTBALL PRACTICE.  DX: C...\n",
       "4  PT WAS HIT ON RT SIDE WHILE PLAYING FOOTBALL D..."
      ]
     },
     "execution_count": 7,
     "metadata": {},
     "output_type": "execute_result"
    }
   ],
   "source": [
    "emergency2=pd.read_csv(r'/Users/liaonicole/Desktop/Liao_YunXuan/hw05/data/emergency.csv',names=['description'])\n",
    "emergency2.head()"
   ]
  },
  {
   "cell_type": "code",
   "execution_count": 8,
   "id": "04d5ec79",
   "metadata": {},
   "outputs": [
    {
     "name": "stderr",
     "output_type": "stream",
     "text": [
      "/Users/liaonicole/opt/anaconda3/lib/python3.8/site-packages/pandas/core/strings/accessor.py:101: UserWarning: This pattern has match groups. To actually get the groups, use str.extract.\n",
      "  return func(self, *args, **kwargs)\n"
     ]
    },
    {
     "data": {
      "text/html": [
       "<div>\n",
       "<style scoped>\n",
       "    .dataframe tbody tr th:only-of-type {\n",
       "        vertical-align: middle;\n",
       "    }\n",
       "\n",
       "    .dataframe tbody tr th {\n",
       "        vertical-align: top;\n",
       "    }\n",
       "\n",
       "    .dataframe thead th {\n",
       "        text-align: right;\n",
       "    }\n",
       "</style>\n",
       "<table border=\"1\" class=\"dataframe\">\n",
       "  <thead>\n",
       "    <tr style=\"text-align: right;\">\n",
       "      <th></th>\n",
       "      <th>description</th>\n",
       "    </tr>\n",
       "  </thead>\n",
       "  <tbody>\n",
       "    <tr>\n",
       "      <th>0</th>\n",
       "      <td>10 MO F FELL OUT OF SHOPPING CART;DX FRACTURED...</td>\n",
       "    </tr>\n",
       "    <tr>\n",
       "      <th>1</th>\n",
       "      <td>75YOF WITH LAC TO FINGER FROM METAL CAN</td>\n",
       "    </tr>\n",
       "    <tr>\n",
       "      <th>2</th>\n",
       "      <td>8YOF FRACTURED FINGER FELL OFF HER BIKE</td>\n",
       "    </tr>\n",
       "    <tr>\n",
       "      <th>3</th>\n",
       "      <td>9 YOM TACKLED DURING FOOTBALL PRACTICE.  DX: C...</td>\n",
       "    </tr>\n",
       "    <tr>\n",
       "      <th>5</th>\n",
       "      <td>DX NASAL INJ: 9YOM C/O FELL OFF SWING @ SCHOOL...</td>\n",
       "    </tr>\n",
       "  </tbody>\n",
       "</table>\n",
       "</div>"
      ],
      "text/plain": [
       "                                         description\n",
       "0  10 MO F FELL OUT OF SHOPPING CART;DX FRACTURED...\n",
       "1           75YOF WITH LAC TO FINGER FROM METAL CAN \n",
       "2           8YOF FRACTURED FINGER FELL OFF HER BIKE \n",
       "3  9 YOM TACKLED DURING FOOTBALL PRACTICE.  DX: C...\n",
       "5  DX NASAL INJ: 9YOM C/O FELL OFF SWING @ SCHOOL..."
      ]
     },
     "execution_count": 8,
     "metadata": {},
     "output_type": "execute_result"
    }
   ],
   "source": [
    "age_gender=emergency2[emergency2.iloc[:,0].str.contains(r'(\\d*).?(YO|YR|MO).?(M|F)')] \n",
    "age_gender.head()"
   ]
  },
  {
   "cell_type": "code",
   "execution_count": 9,
   "id": "8a867bf1",
   "metadata": {},
   "outputs": [
    {
     "name": "stderr",
     "output_type": "stream",
     "text": [
      "<ipython-input-9-e0d4bc8aeb45>:6: SettingWithCopyWarning: \n",
      "A value is trying to be set on a copy of a slice from a DataFrame.\n",
      "Try using .loc[row_indexer,col_indexer] = value instead\n",
      "\n",
      "See the caveats in the documentation: https://pandas.pydata.org/pandas-docs/stable/user_guide/indexing.html#returning-a-view-versus-a-copy\n",
      "  age_gender[\"gender\"]=gen\n"
     ]
    },
    {
     "data": {
      "text/html": [
       "<div>\n",
       "<style scoped>\n",
       "    .dataframe tbody tr th:only-of-type {\n",
       "        vertical-align: middle;\n",
       "    }\n",
       "\n",
       "    .dataframe tbody tr th {\n",
       "        vertical-align: top;\n",
       "    }\n",
       "\n",
       "    .dataframe thead th {\n",
       "        text-align: right;\n",
       "    }\n",
       "</style>\n",
       "<table border=\"1\" class=\"dataframe\">\n",
       "  <thead>\n",
       "    <tr style=\"text-align: right;\">\n",
       "      <th></th>\n",
       "      <th>description</th>\n",
       "      <th>gender</th>\n",
       "    </tr>\n",
       "  </thead>\n",
       "  <tbody>\n",
       "    <tr>\n",
       "      <th>0</th>\n",
       "      <td>10 MO F FELL OUT OF SHOPPING CART;DX FRACTURED...</td>\n",
       "      <td>F</td>\n",
       "    </tr>\n",
       "    <tr>\n",
       "      <th>1</th>\n",
       "      <td>75YOF WITH LAC TO FINGER FROM METAL CAN</td>\n",
       "      <td>F</td>\n",
       "    </tr>\n",
       "    <tr>\n",
       "      <th>2</th>\n",
       "      <td>8YOF FRACTURED FINGER FELL OFF HER BIKE</td>\n",
       "      <td>F</td>\n",
       "    </tr>\n",
       "    <tr>\n",
       "      <th>3</th>\n",
       "      <td>9 YOM TACKLED DURING FOOTBALL PRACTICE.  DX: C...</td>\n",
       "      <td>M</td>\n",
       "    </tr>\n",
       "    <tr>\n",
       "      <th>5</th>\n",
       "      <td>DX NASAL INJ: 9YOM C/O FELL OFF SWING @ SCHOOL...</td>\n",
       "      <td>M</td>\n",
       "    </tr>\n",
       "  </tbody>\n",
       "</table>\n",
       "</div>"
      ],
      "text/plain": [
       "                                         description gender\n",
       "0  10 MO F FELL OUT OF SHOPPING CART;DX FRACTURED...      F\n",
       "1           75YOF WITH LAC TO FINGER FROM METAL CAN       F\n",
       "2           8YOF FRACTURED FINGER FELL OFF HER BIKE       F\n",
       "3  9 YOM TACKLED DURING FOOTBALL PRACTICE.  DX: C...      M\n",
       "5  DX NASAL INJ: 9YOM C/O FELL OFF SWING @ SCHOOL...      M"
      ]
     },
     "execution_count": 9,
     "metadata": {},
     "output_type": "execute_result"
    }
   ],
   "source": [
    "gen=[]\n",
    "for i in age_gender.iloc[:,0]:\n",
    "    x=re.search(r'(\\d*).?(YO|YR|MO).?(M|F)',i)\n",
    "    #print(x)\n",
    "    gen.append(x.group(3))\n",
    "age_gender[\"gender\"]=gen\n",
    "age_gender.head()"
   ]
  },
  {
   "cell_type": "code",
   "execution_count": 10,
   "id": "63b62d43",
   "metadata": {},
   "outputs": [
    {
     "name": "stderr",
     "output_type": "stream",
     "text": [
      "<ipython-input-10-68651004691d>:5: SettingWithCopyWarning: \n",
      "A value is trying to be set on a copy of a slice from a DataFrame.\n",
      "Try using .loc[row_indexer,col_indexer] = value instead\n",
      "\n",
      "See the caveats in the documentation: https://pandas.pydata.org/pandas-docs/stable/user_guide/indexing.html#returning-a-view-versus-a-copy\n",
      "  age_gender[\"age\"]=age\n"
     ]
    },
    {
     "data": {
      "text/html": [
       "<div>\n",
       "<style scoped>\n",
       "    .dataframe tbody tr th:only-of-type {\n",
       "        vertical-align: middle;\n",
       "    }\n",
       "\n",
       "    .dataframe tbody tr th {\n",
       "        vertical-align: top;\n",
       "    }\n",
       "\n",
       "    .dataframe thead th {\n",
       "        text-align: right;\n",
       "    }\n",
       "</style>\n",
       "<table border=\"1\" class=\"dataframe\">\n",
       "  <thead>\n",
       "    <tr style=\"text-align: right;\">\n",
       "      <th></th>\n",
       "      <th>description</th>\n",
       "      <th>gender</th>\n",
       "      <th>age</th>\n",
       "    </tr>\n",
       "  </thead>\n",
       "  <tbody>\n",
       "    <tr>\n",
       "      <th>0</th>\n",
       "      <td>10 MO F FELL OUT OF SHOPPING CART;DX FRACTURED...</td>\n",
       "      <td>F</td>\n",
       "      <td>MO</td>\n",
       "    </tr>\n",
       "    <tr>\n",
       "      <th>1</th>\n",
       "      <td>75YOF WITH LAC TO FINGER FROM METAL CAN</td>\n",
       "      <td>F</td>\n",
       "      <td>YO</td>\n",
       "    </tr>\n",
       "    <tr>\n",
       "      <th>2</th>\n",
       "      <td>8YOF FRACTURED FINGER FELL OFF HER BIKE</td>\n",
       "      <td>F</td>\n",
       "      <td>YO</td>\n",
       "    </tr>\n",
       "    <tr>\n",
       "      <th>3</th>\n",
       "      <td>9 YOM TACKLED DURING FOOTBALL PRACTICE.  DX: C...</td>\n",
       "      <td>M</td>\n",
       "      <td>YO</td>\n",
       "    </tr>\n",
       "    <tr>\n",
       "      <th>5</th>\n",
       "      <td>DX NASAL INJ: 9YOM C/O FELL OFF SWING @ SCHOOL...</td>\n",
       "      <td>M</td>\n",
       "      <td>YO</td>\n",
       "    </tr>\n",
       "  </tbody>\n",
       "</table>\n",
       "</div>"
      ],
      "text/plain": [
       "                                         description gender age\n",
       "0  10 MO F FELL OUT OF SHOPPING CART;DX FRACTURED...      F  MO\n",
       "1           75YOF WITH LAC TO FINGER FROM METAL CAN       F  YO\n",
       "2           8YOF FRACTURED FINGER FELL OFF HER BIKE       F  YO\n",
       "3  9 YOM TACKLED DURING FOOTBALL PRACTICE.  DX: C...      M  YO\n",
       "5  DX NASAL INJ: 9YOM C/O FELL OFF SWING @ SCHOOL...      M  YO"
      ]
     },
     "execution_count": 10,
     "metadata": {},
     "output_type": "execute_result"
    }
   ],
   "source": [
    "age=[]\n",
    "for i in age_gender.iloc[:,0]:\n",
    "    x=re.search(r'(\\d*).?(YO|YR|MO).?(M|F)',i)\n",
    "    age.append(x.group(2))\n",
    "age_gender[\"age\"]=age\n",
    "age_gender.head()"
   ]
  },
  {
   "cell_type": "code",
   "execution_count": null,
   "id": "9217d0a0",
   "metadata": {},
   "outputs": [],
   "source": []
  },
  {
   "cell_type": "code",
   "execution_count": 11,
   "id": "5d3e749f",
   "metadata": {},
   "outputs": [
    {
     "name": "stderr",
     "output_type": "stream",
     "text": [
      "<ipython-input-11-ed24965a5f86>:2: SettingWithCopyWarning: \n",
      "A value is trying to be set on a copy of a slice from a DataFrame.\n",
      "Try using .loc[row_indexer,col_indexer] = value instead\n",
      "\n",
      "See the caveats in the documentation: https://pandas.pydata.org/pandas-docs/stable/user_guide/indexing.html#returning-a-view-versus-a-copy\n",
      "  age_gender['year'] = [number.group(1) for number in [re.search(pattern, n) for n in age_gender['description']] if number]\n"
     ]
    },
    {
     "data": {
      "text/html": [
       "<div>\n",
       "<style scoped>\n",
       "    .dataframe tbody tr th:only-of-type {\n",
       "        vertical-align: middle;\n",
       "    }\n",
       "\n",
       "    .dataframe tbody tr th {\n",
       "        vertical-align: top;\n",
       "    }\n",
       "\n",
       "    .dataframe thead th {\n",
       "        text-align: right;\n",
       "    }\n",
       "</style>\n",
       "<table border=\"1\" class=\"dataframe\">\n",
       "  <thead>\n",
       "    <tr style=\"text-align: right;\">\n",
       "      <th></th>\n",
       "      <th>description</th>\n",
       "      <th>gender</th>\n",
       "      <th>age</th>\n",
       "      <th>year</th>\n",
       "    </tr>\n",
       "  </thead>\n",
       "  <tbody>\n",
       "    <tr>\n",
       "      <th>0</th>\n",
       "      <td>10 MO F FELL OUT OF SHOPPING CART;DX FRACTURED...</td>\n",
       "      <td>F</td>\n",
       "      <td>MO</td>\n",
       "      <td>10</td>\n",
       "    </tr>\n",
       "    <tr>\n",
       "      <th>1</th>\n",
       "      <td>75YOF WITH LAC TO FINGER FROM METAL CAN</td>\n",
       "      <td>F</td>\n",
       "      <td>YO</td>\n",
       "      <td>75</td>\n",
       "    </tr>\n",
       "    <tr>\n",
       "      <th>2</th>\n",
       "      <td>8YOF FRACTURED FINGER FELL OFF HER BIKE</td>\n",
       "      <td>F</td>\n",
       "      <td>YO</td>\n",
       "      <td>8</td>\n",
       "    </tr>\n",
       "    <tr>\n",
       "      <th>3</th>\n",
       "      <td>9 YOM TACKLED DURING FOOTBALL PRACTICE.  DX: C...</td>\n",
       "      <td>M</td>\n",
       "      <td>YO</td>\n",
       "      <td>9</td>\n",
       "    </tr>\n",
       "    <tr>\n",
       "      <th>5</th>\n",
       "      <td>DX NASAL INJ: 9YOM C/O FELL OFF SWING @ SCHOOL...</td>\n",
       "      <td>M</td>\n",
       "      <td>YO</td>\n",
       "      <td>9</td>\n",
       "    </tr>\n",
       "  </tbody>\n",
       "</table>\n",
       "</div>"
      ],
      "text/plain": [
       "                                         description gender age year\n",
       "0  10 MO F FELL OUT OF SHOPPING CART;DX FRACTURED...      F  MO   10\n",
       "1           75YOF WITH LAC TO FINGER FROM METAL CAN       F  YO   75\n",
       "2           8YOF FRACTURED FINGER FELL OFF HER BIKE       F  YO    8\n",
       "3  9 YOM TACKLED DURING FOOTBALL PRACTICE.  DX: C...      M  YO    9\n",
       "5  DX NASAL INJ: 9YOM C/O FELL OFF SWING @ SCHOOL...      M  YO    9"
      ]
     },
     "execution_count": 11,
     "metadata": {},
     "output_type": "execute_result"
    }
   ],
   "source": [
    "pattern=r'(\\d*).?(YO|YR|MO).?(M|F)'\n",
    "age_gender['year'] = [number.group(1) for number in [re.search(pattern, n) for n in age_gender['description']] if number]\n",
    "age_gender.head()"
   ]
  },
  {
   "cell_type": "code",
   "execution_count": 12,
   "id": "53dc2dd6",
   "metadata": {},
   "outputs": [
    {
     "name": "stderr",
     "output_type": "stream",
     "text": [
      "<ipython-input-12-f2b2cb8dc182>:1: SettingWithCopyWarning: \n",
      "A value is trying to be set on a copy of a slice from a DataFrame.\n",
      "Try using .loc[row_indexer,col_indexer] = value instead\n",
      "\n",
      "See the caveats in the documentation: https://pandas.pydata.org/pandas-docs/stable/user_guide/indexing.html#returning-a-view-versus-a-copy\n",
      "  age_gender['year']= pd.to_numeric(age_gender['year'])\n"
     ]
    }
   ],
   "source": [
    "age_gender['year']= pd.to_numeric(age_gender['year'])"
   ]
  },
  {
   "cell_type": "code",
   "execution_count": 13,
   "id": "ba7de4e6",
   "metadata": {},
   "outputs": [
    {
     "name": "stderr",
     "output_type": "stream",
     "text": [
      "<ipython-input-13-be0f76e5beac>:1: SettingWithCopyWarning: \n",
      "A value is trying to be set on a copy of a slice from a DataFrame.\n",
      "Try using .loc[row_indexer,col_indexer] = value instead\n",
      "\n",
      "See the caveats in the documentation: https://pandas.pydata.org/pandas-docs/stable/user_guide/indexing.html#returning-a-view-versus-a-copy\n",
      "  age_gender['year']=np.where(age_gender['age']=='MO',age_gender['year']/12,age_gender['year'])\n",
      "<ipython-input-13-be0f76e5beac>:2: SettingWithCopyWarning: \n",
      "A value is trying to be set on a copy of a slice from a DataFrame.\n",
      "Try using .loc[row_indexer,col_indexer] = value instead\n",
      "\n",
      "See the caveats in the documentation: https://pandas.pydata.org/pandas-docs/stable/user_guide/indexing.html#returning-a-view-versus-a-copy\n",
      "  age_gender['age']=np.where(age_gender['age']=='MO',age_gender['age']=='YO',age_gender['age'])\n"
     ]
    },
    {
     "data": {
      "text/html": [
       "<div>\n",
       "<style scoped>\n",
       "    .dataframe tbody tr th:only-of-type {\n",
       "        vertical-align: middle;\n",
       "    }\n",
       "\n",
       "    .dataframe tbody tr th {\n",
       "        vertical-align: top;\n",
       "    }\n",
       "\n",
       "    .dataframe thead th {\n",
       "        text-align: right;\n",
       "    }\n",
       "</style>\n",
       "<table border=\"1\" class=\"dataframe\">\n",
       "  <thead>\n",
       "    <tr style=\"text-align: right;\">\n",
       "      <th></th>\n",
       "      <th>description</th>\n",
       "      <th>gender</th>\n",
       "      <th>age</th>\n",
       "      <th>year</th>\n",
       "    </tr>\n",
       "  </thead>\n",
       "  <tbody>\n",
       "    <tr>\n",
       "      <th>0</th>\n",
       "      <td>10 MO F FELL OUT OF SHOPPING CART;DX FRACTURED...</td>\n",
       "      <td>F</td>\n",
       "      <td>False</td>\n",
       "      <td>0.833333</td>\n",
       "    </tr>\n",
       "    <tr>\n",
       "      <th>1</th>\n",
       "      <td>75YOF WITH LAC TO FINGER FROM METAL CAN</td>\n",
       "      <td>F</td>\n",
       "      <td>YO</td>\n",
       "      <td>75.000000</td>\n",
       "    </tr>\n",
       "    <tr>\n",
       "      <th>2</th>\n",
       "      <td>8YOF FRACTURED FINGER FELL OFF HER BIKE</td>\n",
       "      <td>F</td>\n",
       "      <td>YO</td>\n",
       "      <td>8.000000</td>\n",
       "    </tr>\n",
       "    <tr>\n",
       "      <th>3</th>\n",
       "      <td>9 YOM TACKLED DURING FOOTBALL PRACTICE.  DX: C...</td>\n",
       "      <td>M</td>\n",
       "      <td>YO</td>\n",
       "      <td>9.000000</td>\n",
       "    </tr>\n",
       "    <tr>\n",
       "      <th>5</th>\n",
       "      <td>DX NASAL INJ: 9YOM C/O FELL OFF SWING @ SCHOOL...</td>\n",
       "      <td>M</td>\n",
       "      <td>YO</td>\n",
       "      <td>9.000000</td>\n",
       "    </tr>\n",
       "  </tbody>\n",
       "</table>\n",
       "</div>"
      ],
      "text/plain": [
       "                                         description gender    age       year\n",
       "0  10 MO F FELL OUT OF SHOPPING CART;DX FRACTURED...      F  False   0.833333\n",
       "1           75YOF WITH LAC TO FINGER FROM METAL CAN       F     YO  75.000000\n",
       "2           8YOF FRACTURED FINGER FELL OFF HER BIKE       F     YO   8.000000\n",
       "3  9 YOM TACKLED DURING FOOTBALL PRACTICE.  DX: C...      M     YO   9.000000\n",
       "5  DX NASAL INJ: 9YOM C/O FELL OFF SWING @ SCHOOL...      M     YO   9.000000"
      ]
     },
     "execution_count": 13,
     "metadata": {},
     "output_type": "execute_result"
    }
   ],
   "source": [
    "age_gender['year']=np.where(age_gender['age']=='MO',age_gender['year']/12,age_gender['year'])\n",
    "age_gender['age']=np.where(age_gender['age']=='MO',age_gender['age']=='YO',age_gender['age'])\n",
    "age_gender.head()"
   ]
  },
  {
   "cell_type": "code",
   "execution_count": 14,
   "id": "461b3edb",
   "metadata": {},
   "outputs": [
    {
     "data": {
      "text/plain": [
       "gender\n",
       "F    3225\n",
       "M    4203\n",
       "dtype: int64"
      ]
     },
     "execution_count": 14,
     "metadata": {},
     "output_type": "execute_result"
    }
   ],
   "source": [
    "gender= age_gender.groupby('gender')\n",
    "gender.size()"
   ]
  },
  {
   "cell_type": "code",
   "execution_count": 31,
   "id": "3a3e896a",
   "metadata": {},
   "outputs": [
    {
     "data": {
      "text/html": [
       "<div>\n",
       "<style scoped>\n",
       "    .dataframe tbody tr th:only-of-type {\n",
       "        vertical-align: middle;\n",
       "    }\n",
       "\n",
       "    .dataframe tbody tr th {\n",
       "        vertical-align: top;\n",
       "    }\n",
       "\n",
       "    .dataframe thead th {\n",
       "        text-align: right;\n",
       "    }\n",
       "</style>\n",
       "<table border=\"1\" class=\"dataframe\">\n",
       "  <thead>\n",
       "    <tr style=\"text-align: right;\">\n",
       "      <th></th>\n",
       "      <th>gender</th>\n",
       "      <th>year</th>\n",
       "      <th>frequency</th>\n",
       "    </tr>\n",
       "  </thead>\n",
       "  <tbody>\n",
       "    <tr>\n",
       "      <th>0</th>\n",
       "      <td>F</td>\n",
       "      <td>0.083333</td>\n",
       "      <td>7</td>\n",
       "    </tr>\n",
       "    <tr>\n",
       "      <th>1</th>\n",
       "      <td>F</td>\n",
       "      <td>0.166667</td>\n",
       "      <td>3</td>\n",
       "    </tr>\n",
       "    <tr>\n",
       "      <th>2</th>\n",
       "      <td>F</td>\n",
       "      <td>0.250000</td>\n",
       "      <td>3</td>\n",
       "    </tr>\n",
       "    <tr>\n",
       "      <th>3</th>\n",
       "      <td>F</td>\n",
       "      <td>0.333333</td>\n",
       "      <td>6</td>\n",
       "    </tr>\n",
       "    <tr>\n",
       "      <th>4</th>\n",
       "      <td>F</td>\n",
       "      <td>0.416667</td>\n",
       "      <td>9</td>\n",
       "    </tr>\n",
       "  </tbody>\n",
       "</table>\n",
       "</div>"
      ],
      "text/plain": [
       "  gender      year  frequency\n",
       "0      F  0.083333          7\n",
       "1      F  0.166667          3\n",
       "2      F  0.250000          3\n",
       "3      F  0.333333          6\n",
       "4      F  0.416667          9"
      ]
     },
     "execution_count": 31,
     "metadata": {},
     "output_type": "execute_result"
    }
   ],
   "source": [
    "graphdf=age_gender.groupby(['gender', 'year'])['description'].count().reset_index(name='frequency')\n",
    "graphdf.head()"
   ]
  },
  {
   "cell_type": "code",
   "execution_count": 32,
   "id": "83752796",
   "metadata": {},
   "outputs": [
    {
     "data": {
      "text/plain": [
       "[Text(0.5, 1.0, 'Injury'),\n",
       " Text(0.5, 0, 'Age'),\n",
       " Text(0, 0.5, 'Number of Injuries')]"
      ]
     },
     "execution_count": 32,
     "metadata": {},
     "output_type": "execute_result"
    },
    {
     "data": {
      "image/png": "[encoded data removed]",
      "text/plain": [
       "<Figure size 432x288 with 1 Axes>"
      ]
     },
     "metadata": {
      "needs_background": "light"
     },
     "output_type": "display_data"
    }
   ],
   "source": [
    "graph=sns.lineplot(x='year', y='frequency',hue='gender',data=graphdf)\n",
    "graph.set(title='Injury', xlabel='Age', ylabel='Number of Injuries')"
   ]
  },
  {
   "cell_type": "code",
   "execution_count": null,
   "id": "c4a4097d",
   "metadata": {},
   "outputs": [],
   "source": []
  }
 ],
 "metadata": {
  "kernelspec": {
   "display_name": "Python 3",
   "language": "python",
   "name": "python3"
  },
  "language_info": {
   "codemirror_mode": {
    "name": "ipython",
    "version": 3
   },
   "file_extension": ".py",
   "mimetype": "text/x-python",
   "name": "python",
   "nbconvert_exporter": "python",
   "pygments_lexer": "ipython3",
   "version": "3.8.8"
  }
 },
 "nbformat": 4,
 "nbformat_minor": 5
}
