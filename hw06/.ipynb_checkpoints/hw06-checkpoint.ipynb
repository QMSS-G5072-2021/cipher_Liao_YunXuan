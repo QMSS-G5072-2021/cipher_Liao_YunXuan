{
 "cells": [
  {
   "cell_type": "markdown",
   "id": "a2d7b851",
   "metadata": {},
   "source": [
    "# HW06"
   ]
  },
  {
   "cell_type": "code",
   "execution_count": 1,
   "id": "4585f165",
   "metadata": {},
   "outputs": [],
   "source": [
    "def cipher(text, shift, encrypt=True):\n",
    "    alphabet = 'abcdefghijklmnopqrstuvwxyzABCDEFGHIJKLMNOPQRSTUVWXYZ'\n",
    "    new_text = ''\n",
    "    for c in text:\n",
    "        index = alphabet.find(c)\n",
    "        if index == -1:\n",
    "            new_text += c\n",
    "        else:\n",
    "            new_index = index + shift if encrypt == True else index - shift\n",
    "            new_index %= len(alphabet)\n",
    "            new_text += alphabet[new_index:new_index+1]\n",
    "    return new_text"
   ]
  },
  {
   "cell_type": "code",
   "execution_count": 12,
   "id": "d03cfa83",
   "metadata": {},
   "outputs": [],
   "source": [
    "import pytest"
   ]
  },
  {
   "cell_type": "markdown",
   "id": "9708e8b5",
   "metadata": {},
   "source": [
    "## a) Write a test function that checks whether the cipher function works using a single word as an example."
   ]
  },
  {
   "cell_type": "code",
   "execution_count": 41,
   "id": "41117955",
   "metadata": {},
   "outputs": [
    {
     "data": {
      "text/plain": [
       "'vguv'"
      ]
     },
     "execution_count": 41,
     "metadata": {},
     "output_type": "execute_result"
    }
   ],
   "source": [
    "cipher('test',2)"
   ]
  },
  {
   "cell_type": "code",
   "execution_count": 42,
   "id": "c8aae329",
   "metadata": {},
   "outputs": [
    {
     "data": {
      "text/plain": [
       "'rwkhu'"
      ]
     },
     "execution_count": 42,
     "metadata": {},
     "output_type": "execute_result"
    }
   ],
   "source": [
    "cipher('other',3)"
   ]
  },
  {
   "cell_type": "code",
   "execution_count": 3,
   "id": "17640cf3",
   "metadata": {},
   "outputs": [],
   "source": [
    "def test_cipher_word():\n",
    "    example = 'test'\n",
    "    expected = 'vguv'\n",
    "    actual = cipher(example,2)\n",
    "    assert actual == expected,\"The word should be vguv\""
   ]
  },
  {
   "cell_type": "code",
   "execution_count": 4,
   "id": "88cd15a9",
   "metadata": {},
   "outputs": [],
   "source": [
    "test_cipher_word()"
   ]
  },
  {
   "cell_type": "markdown",
   "id": "ee1b68e7",
   "metadata": {},
   "source": [
    "## b) Write a test function that checks a negative shift works (shift < 0)."
   ]
  },
  {
   "cell_type": "code",
   "execution_count": 5,
   "id": "4938e838",
   "metadata": {},
   "outputs": [
    {
     "data": {
      "text/plain": [
       "'sdrs'"
      ]
     },
     "execution_count": 5,
     "metadata": {},
     "output_type": "execute_result"
    }
   ],
   "source": [
    "cipher('test',-1)"
   ]
  },
  {
   "cell_type": "code",
   "execution_count": 6,
   "id": "784fbb4c",
   "metadata": {},
   "outputs": [],
   "source": [
    "def test_cipher_negative():\n",
    "    example = 'test'\n",
    "    expected = 'sdrs'\n",
    "    actual = cipher(example,-1)\n",
    "    assert actual == expected,\"The word should be sdrs\""
   ]
  },
  {
   "cell_type": "code",
   "execution_count": 7,
   "id": "24299bca",
   "metadata": {},
   "outputs": [],
   "source": [
    "test_cipher_negative()"
   ]
  },
  {
   "cell_type": "markdown",
   "id": "0de4e76e",
   "metadata": {},
   "source": [
    "## c) Write a test for the case when the text contains symbols which are not in the alphabet."
   ]
  },
  {
   "cell_type": "code",
   "execution_count": 13,
   "id": "ca67bb3b",
   "metadata": {},
   "outputs": [],
   "source": [
    "def test_cipher_symbol():\n",
    "    example = 'test!'\n",
    "    expected = 'vguv!'\n",
    "    actual = cipher(example,2)\n",
    "    assert actual == expected,\"The word should be vguv!\""
   ]
  },
  {
   "cell_type": "code",
   "execution_count": 14,
   "id": "3f37a73f",
   "metadata": {},
   "outputs": [],
   "source": [
    "test_cipher_symbol()"
   ]
  },
  {
   "cell_type": "markdown",
   "id": "eab15105",
   "metadata": {},
   "source": [
    "## d) Add an assertion to the original function that causes an exception when the shift parameter is set to a string (e.g. \"two\"). Now, add a test that checks for that exception occurring as expected when a string is passed to shift."
   ]
  },
  {
   "cell_type": "code",
   "execution_count": 34,
   "id": "23710c8d",
   "metadata": {},
   "outputs": [],
   "source": [
    "def cipher(text, shift, encrypt=True):\n",
    "    assert not isinstance(shift, str), 'Shift should not be a string'\n",
    "    alphabet = 'abcdefghijklmnopqrstuvwxyzABCDEFGHIJKLMNOPQRSTUVWXYZ'\n",
    "    new_text = ''\n",
    "    for c in text:\n",
    "        index = alphabet.find(c)\n",
    "        if index == -1:\n",
    "            new_text += c\n",
    "        else:\n",
    "            new_index = index + shift if encrypt == True else index - shift\n",
    "            new_index %= len(alphabet)\n",
    "            new_text += alphabet[new_index:new_index+1]\n",
    "    return new_text"
   ]
  },
  {
   "cell_type": "code",
   "execution_count": 39,
   "id": "1c71e880",
   "metadata": {},
   "outputs": [],
   "source": [
    "def test_cipher_exception():\n",
    "    with pytest.raises(AssertionError):\n",
    "        cipher('test', 'one')\n",
    "test_cipher_exception()"
   ]
  },
  {
   "cell_type": "markdown",
   "id": "b699e636",
   "metadata": {},
   "source": [
    "## e) Add the tests from 1a, 1b, 1c, and 1d to a file called test_cipher.py in your folder. Run all the tests from your command line using pytest (and verbosity setting -vv) and add a screen shot of the command and the output to your homework solution."
   ]
  },
  {
   "cell_type": "markdown",
   "id": "822d7322",
   "metadata": {},
   "source": [
    "## f) Now, expand the test in (1a) using several examples which include a single word, lower case only, upper case only, and a sentence with spaces. Use a fixture for this, so that this remains a single test function."
   ]
  },
  {
   "cell_type": "code",
   "execution_count": 43,
   "id": "a9940b9d",
   "metadata": {},
   "outputs": [
    {
     "data": {
      "text/plain": [
       "'J mpwf mbuuf.'"
      ]
     },
     "execution_count": 43,
     "metadata": {},
     "output_type": "execute_result"
    }
   ],
   "source": [
    "cipher('I love latte.',1)"
   ]
  },
  {
   "cell_type": "code",
   "execution_count": 44,
   "id": "0c1c0d63",
   "metadata": {},
   "outputs": [],
   "source": [
    "@pytest.mark.parametrize(\"text, shift, expected\", [\n",
    "    ('test', 2, 'vguv'),\n",
    "    ('TEST', 2, 'VGUV'),\n",
    "    ('other', 3, 'rwkhu'),\n",
    "    ('I love latte.', 1, 'J mpwf mbuuf.')\n",
    "])\n",
    "def test_cipher_multiple(text, shift, expected):\n",
    "    actual=cipher(text, shift)\n",
    "    assert actual==expected, 'The answer is not correct'"
   ]
  },
  {
   "cell_type": "markdown",
   "id": "e86d90eb",
   "metadata": {},
   "source": [
    "## g) Write a simple integration-like test that relies on the fact that we can encrypt and decrypt a string using the function (using the encrypt parameter). That is, your test should start with a string, encrypt it, decrypt it, and then compare the result to the starting point. Set up a test that runs this for shift values from 1 to 10."
   ]
  },
  {
   "cell_type": "code",
   "execution_count": 48,
   "id": "10cd9841",
   "metadata": {},
   "outputs": [],
   "source": [
    "def test_loop():\n",
    "    index=1\n",
    "    while index<11:\n",
    "        string='A test string'\n",
    "        expected=cipher(string,index,encrypt=True)\n",
    "        decrypt=cipher(expected,index,encrypt=False)\n",
    "        index=index+1\n",
    "        assert decrypt==string,'The answer is not correct'\n",
    "test_loop()"
   ]
  },
  {
   "cell_type": "code",
   "execution_count": null,
   "id": "9f96ac03",
   "metadata": {},
   "outputs": [],
   "source": []
  }
 ],
 "metadata": {
  "kernelspec": {
   "display_name": "Python 3",
   "language": "python",
   "name": "python3"
  },
  "language_info": {
   "codemirror_mode": {
    "name": "ipython",
    "version": 3
   },
   "file_extension": ".py",
   "mimetype": "text/x-python",
   "name": "python",
   "nbconvert_exporter": "python",
   "pygments_lexer": "ipython3",
   "version": "3.8.8"
  }
 },
 "nbformat": 4,
 "nbformat_minor": 5
}
