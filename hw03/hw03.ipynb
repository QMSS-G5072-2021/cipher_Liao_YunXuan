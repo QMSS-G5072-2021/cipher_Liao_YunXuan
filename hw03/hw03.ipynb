{
 "cells": [
  {
   "cell_type": "markdown",
   "id": "bda03fb5",
   "metadata": {},
   "source": [
    "# HW03"
   ]
  },
  {
   "cell_type": "markdown",
   "id": "7a24a6ab",
   "metadata": {},
   "source": [
    "## Q1 a)"
   ]
  },
  {
   "cell_type": "code",
   "execution_count": 1,
   "id": "df0e1c0b",
   "metadata": {},
   "outputs": [],
   "source": [
    "import pandas as pd\n",
    "import numpy as np"
   ]
  },
  {
   "cell_type": "code",
   "execution_count": 9,
   "id": "b07b5fa7",
   "metadata": {},
   "outputs": [],
   "source": [
    "def cost_of_event(num_of_people, type=\"private\", cost=450):\n",
    "    if type==\"wedding\":\n",
    "        total_cost=num_of_people*cost*1.5\n",
    "        return total_cost\n",
    "    elif type==\"private\"or type==\"corporate\":\n",
    "        total_cost=num_of_people*cost\n",
    "        return total_cost "
   ]
  },
  {
   "cell_type": "code",
   "execution_count": 10,
   "id": "65f5186e",
   "metadata": {},
   "outputs": [
    {
     "data": {
      "text/plain": [
       "101250.0"
      ]
     },
     "execution_count": 10,
     "metadata": {},
     "output_type": "execute_result"
    }
   ],
   "source": [
    "cost_of_event(150,\"wedding\",450)"
   ]
  },
  {
   "cell_type": "markdown",
   "id": "daab1db7",
   "metadata": {},
   "source": [
    "## Q1 b)"
   ]
  },
  {
   "cell_type": "code",
   "execution_count": 11,
   "id": "1bdb3020",
   "metadata": {},
   "outputs": [],
   "source": [
    "def sales_tax(event_value, tax_rate=0.1, type=\"private\"):\n",
    "    if type==\"corporate\":\n",
    "        total_sales_tax=event_value*tax_rate\n",
    "        return total_sales_tax\n",
    "    elif type==\"private\" or type==\"wedding\":\n",
    "        if event_value<=1000:\n",
    "            total_sales_tax=0\n",
    "            return total_sales_tax\n",
    "        elif event_value>1000:\n",
    "            total_sales_tax=(event_value-1000)*tax_rate\n",
    "            return total_sales_tax"
   ]
  },
  {
   "cell_type": "code",
   "execution_count": 17,
   "id": "6e6cf0d6",
   "metadata": {},
   "outputs": [
    {
     "data": {
      "text/plain": [
       "400.0"
      ]
     },
     "execution_count": 17,
     "metadata": {},
     "output_type": "execute_result"
    }
   ],
   "source": [
    "sales_tax(5000, type = \"private\")"
   ]
  },
  {
   "cell_type": "code",
   "execution_count": 18,
   "id": "51de71be",
   "metadata": {},
   "outputs": [
    {
     "data": {
      "text/plain": [
       "500.0"
      ]
     },
     "execution_count": 18,
     "metadata": {},
     "output_type": "execute_result"
    }
   ],
   "source": [
    "sales_tax(5000, type = \"corporate\")"
   ]
  },
  {
   "cell_type": "markdown",
   "id": "0c1f400f",
   "metadata": {},
   "source": [
    "## Q1 c)"
   ]
  },
  {
   "cell_type": "code",
   "execution_count": 27,
   "id": "0469d5f8",
   "metadata": {},
   "outputs": [],
   "source": [
    "def event_calculator(num_of_people, **kwargs):\n",
    "    type_of_event=kwargs.get(\"type\")\n",
    "    cost_per_person=kwargs.get(\"cost\")\n",
    "    tax_rate= kwargs.get(\"tax_rate\")\n",
    "    cost_of_event2=cost_of_event(num_of_people, type=type_of_event, cost=cost_per_person)\n",
    "    sales_tax2=sales_tax(cost_of_event2, tax_rate, type=type_of_event)\n",
    "    total_cost=cost_of_event2+sales_tax2\n",
    "    print(f\" Total number of guests: {num_of_people}\\n\",\n",
    "          f\"Type of event: {type_of_event}\\n\",\n",
    "          f\"Cost per person: {cost_per_person}\\n\",\n",
    "          f\"---------------------------\\n\",\n",
    "          f\"Cost of event: {cost_of_event2}\\n\",\n",
    "          f\"Sales tax: {sales_tax2}\\n\",\n",
    "          f\"---------------------------\\n\",\n",
    "          f\"Total cost: {total_cost}\")"
   ]
  },
  {
   "cell_type": "code",
   "execution_count": 28,
   "id": "48262948",
   "metadata": {},
   "outputs": [
    {
     "name": "stdout",
     "output_type": "stream",
     "text": [
      " Total number of guests: 100\n",
      " Type of event: corporate\n",
      " Cost per person: 75\n",
      " ---------------------------\n",
      " Cost of event: 7500\n",
      " Sales tax: 600.0\n",
      " ---------------------------\n",
      " Total cost: 8100.0\n"
     ]
    }
   ],
   "source": [
    "event_calculator(100, type=\"corporate\", cost=75, tax_rate=0.08)"
   ]
  },
  {
   "cell_type": "markdown",
   "id": "fdccaba5",
   "metadata": {},
   "source": [
    "## Q2 a)"
   ]
  },
  {
   "cell_type": "code",
   "execution_count": 29,
   "id": "73989884",
   "metadata": {},
   "outputs": [],
   "source": [
    "def event_calculator(num_of_people, **kwargs):\n",
    "    type_of_event=kwargs.get(\"type\")\n",
    "    cost_per_person=kwargs.get(\"cost\")\n",
    "    tax_rate= kwargs.get(\"tax_rate\")\n",
    "    \n",
    "    if type_of_event not in [\"corporate\", \"wedding\", \"private\"]:\n",
    "        raise Exception(\"Please choose event types from: corporate, wedding, private.\")\n",
    "    \n",
    "    assert cost_per_person>0, \"Cost per person can not be a negative number.\"\n",
    "    \n",
    "    assert tax_rate<0.25 and tax_rate>0, \"Sales tax ranges from 0% to 25%.\"\n",
    "    \n",
    "    cost_of_event2=cost_of_event(num_of_people, type=type_of_event, cost=cost_per_person)\n",
    "    sales_tax2=sales_tax(cost_of_event2, tax_rate, type=type_of_event)\n",
    "    total_cost=cost_of_event2+sales_tax2\n",
    "    print(f\" Total number of guests: {num_of_people}\\n\",\n",
    "          f\"Type of event: {type_of_event}\\n\",\n",
    "          f\"Cost per person: {cost_per_person}\\n\",\n",
    "          f\"---------------------------\\n\",\n",
    "          f\"Cost of event: {cost_of_event2}\\n\",\n",
    "          f\"Sales tax: {sales_tax2}\\n\",\n",
    "          f\"---------------------------\\n\",\n",
    "          f\"Total cost: {total_cost}\")"
   ]
  },
  {
   "cell_type": "code",
   "execution_count": 30,
   "id": "0d153886",
   "metadata": {},
   "outputs": [
    {
     "ename": "Exception",
     "evalue": "Please choose event types from: corporate, wedding, private.",
     "output_type": "error",
     "traceback": [
      "\u001b[0;31m---------------------------------------------------------------------------\u001b[0m",
      "\u001b[0;31mException\u001b[0m                                 Traceback (most recent call last)",
      "\u001b[0;32m<ipython-input-30-a7f66eaedec0>\u001b[0m in \u001b[0;36m<module>\u001b[0;34m\u001b[0m\n\u001b[0;32m----> 1\u001b[0;31m \u001b[0mevent_calculator\u001b[0m\u001b[0;34m(\u001b[0m\u001b[0;36m100\u001b[0m\u001b[0;34m,\u001b[0m \u001b[0mtype\u001b[0m \u001b[0;34m=\u001b[0m \u001b[0;34m\"bachelor party\"\u001b[0m\u001b[0;34m,\u001b[0m \u001b[0mcost\u001b[0m \u001b[0;34m=\u001b[0m \u001b[0;36m1\u001b[0m\u001b[0;34m)\u001b[0m\u001b[0;34m\u001b[0m\u001b[0;34m\u001b[0m\u001b[0m\n\u001b[0m",
      "\u001b[0;32m<ipython-input-29-60bc4d5584d7>\u001b[0m in \u001b[0;36mevent_calculator\u001b[0;34m(num_of_people, **kwargs)\u001b[0m\n\u001b[1;32m      5\u001b[0m \u001b[0;34m\u001b[0m\u001b[0m\n\u001b[1;32m      6\u001b[0m     \u001b[0;32mif\u001b[0m \u001b[0mtype_of_event\u001b[0m \u001b[0;32mnot\u001b[0m \u001b[0;32min\u001b[0m \u001b[0;34m[\u001b[0m\u001b[0;34m\"corporate\"\u001b[0m\u001b[0;34m,\u001b[0m \u001b[0;34m\"wedding\"\u001b[0m\u001b[0;34m,\u001b[0m \u001b[0;34m\"private\"\u001b[0m\u001b[0;34m]\u001b[0m\u001b[0;34m:\u001b[0m\u001b[0;34m\u001b[0m\u001b[0;34m\u001b[0m\u001b[0m\n\u001b[0;32m----> 7\u001b[0;31m         \u001b[0;32mraise\u001b[0m \u001b[0mException\u001b[0m\u001b[0;34m(\u001b[0m\u001b[0;34m\"Please choose event types from: corporate, wedding, private.\"\u001b[0m\u001b[0;34m)\u001b[0m\u001b[0;34m\u001b[0m\u001b[0;34m\u001b[0m\u001b[0m\n\u001b[0m\u001b[1;32m      8\u001b[0m \u001b[0;34m\u001b[0m\u001b[0m\n\u001b[1;32m      9\u001b[0m     \u001b[0;32massert\u001b[0m \u001b[0mcost_per_person\u001b[0m\u001b[0;34m>\u001b[0m\u001b[0;36m0\u001b[0m\u001b[0;34m,\u001b[0m \u001b[0;34m\"Cost per person can not be a negative number.\"\u001b[0m\u001b[0;34m\u001b[0m\u001b[0;34m\u001b[0m\u001b[0m\n",
      "\u001b[0;31mException\u001b[0m: Please choose event types from: corporate, wedding, private."
     ]
    }
   ],
   "source": [
    "event_calculator(100, type=\"bachelor party\", cost=1)"
   ]
  },
  {
   "cell_type": "code",
   "execution_count": 31,
   "id": "c096e31b",
   "metadata": {},
   "outputs": [
    {
     "ename": "AssertionError",
     "evalue": "Cost per person can not be a negative number.",
     "output_type": "error",
     "traceback": [
      "\u001b[0;31m---------------------------------------------------------------------------\u001b[0m",
      "\u001b[0;31mAssertionError\u001b[0m                            Traceback (most recent call last)",
      "\u001b[0;32m<ipython-input-31-f8c751ee0fce>\u001b[0m in \u001b[0;36m<module>\u001b[0;34m\u001b[0m\n\u001b[0;32m----> 1\u001b[0;31m \u001b[0mevent_calculator\u001b[0m\u001b[0;34m(\u001b[0m\u001b[0;36m100\u001b[0m\u001b[0;34m,\u001b[0m \u001b[0mtype\u001b[0m\u001b[0;34m=\u001b[0m\u001b[0;34m\"private\"\u001b[0m\u001b[0;34m,\u001b[0m \u001b[0mcost\u001b[0m \u001b[0;34m=\u001b[0m\u001b[0;34m-\u001b[0m\u001b[0;36m10\u001b[0m\u001b[0;34m)\u001b[0m\u001b[0;34m\u001b[0m\u001b[0;34m\u001b[0m\u001b[0m\n\u001b[0m",
      "\u001b[0;32m<ipython-input-29-60bc4d5584d7>\u001b[0m in \u001b[0;36mevent_calculator\u001b[0;34m(num_of_people, **kwargs)\u001b[0m\n\u001b[1;32m      7\u001b[0m         \u001b[0;32mraise\u001b[0m \u001b[0mException\u001b[0m\u001b[0;34m(\u001b[0m\u001b[0;34m\"Please choose event types from: corporate, wedding, private.\"\u001b[0m\u001b[0;34m)\u001b[0m\u001b[0;34m\u001b[0m\u001b[0;34m\u001b[0m\u001b[0m\n\u001b[1;32m      8\u001b[0m \u001b[0;34m\u001b[0m\u001b[0m\n\u001b[0;32m----> 9\u001b[0;31m     \u001b[0;32massert\u001b[0m \u001b[0mcost_per_person\u001b[0m\u001b[0;34m>\u001b[0m\u001b[0;36m0\u001b[0m\u001b[0;34m,\u001b[0m \u001b[0;34m\"Cost per person can not be a negative number.\"\u001b[0m\u001b[0;34m\u001b[0m\u001b[0;34m\u001b[0m\u001b[0m\n\u001b[0m\u001b[1;32m     10\u001b[0m \u001b[0;34m\u001b[0m\u001b[0m\n\u001b[1;32m     11\u001b[0m     \u001b[0;32massert\u001b[0m \u001b[0mtax_rate\u001b[0m\u001b[0;34m<\u001b[0m\u001b[0;36m0.25\u001b[0m \u001b[0;32mand\u001b[0m \u001b[0mtax_rate\u001b[0m\u001b[0;34m>\u001b[0m\u001b[0;36m0\u001b[0m\u001b[0;34m,\u001b[0m \u001b[0;34m\"Sales tax ranges from 0% to 25%.\"\u001b[0m\u001b[0;34m\u001b[0m\u001b[0;34m\u001b[0m\u001b[0m\n",
      "\u001b[0;31mAssertionError\u001b[0m: Cost per person can not be a negative number."
     ]
    }
   ],
   "source": [
    "event_calculator(100, type=\"private\", cost =-10)"
   ]
  },
  {
   "cell_type": "markdown",
   "id": "a5e7da3b",
   "metadata": {},
   "source": [
    "## Q2 b)"
   ]
  },
  {
   "cell_type": "code",
   "execution_count": 64,
   "id": "e66559a1",
   "metadata": {},
   "outputs": [],
   "source": [
    "def event_calculator2(num_of_people, **kwargs):\n",
    "    type_of_event=kwargs.get(\"type\")\n",
    "    cost_per_person=kwargs.get(\"cost\")\n",
    "    tax_rate= kwargs.get(\"tax_rate\")\n",
    "    \n",
    "    if type_of_event not in [\"corporate\", \"wedding\", \"private\"]:\n",
    "        \n",
    "        return \"Please choose event types from: corporate, wedding, private.\"\n",
    "    \n",
    "    if cost_per_person>0:\n",
    "        try:\n",
    "            cost_of_event2=cost_of_event(num_of_people, type=type_of_event, cost=cost_per_person)\n",
    "        except ValueError:\n",
    "            return \"Please check your input values.\"\n",
    "    elif cost_per_person<0:\n",
    "        return \"Please check your input values.\"\n",
    "        \n",
    "    if tax_rate<0.25 and tax_rate>0:\n",
    "        try: \n",
    "            sales_tax2=sales_tax(cost_of_event2, tax_rate, type=type_of_event)\n",
    "        except ValueError:\n",
    "            return \"Please check your input values.\"\n",
    "    elif tax_rate>0.25 or tax_rate<0:\n",
    "        return \"Please check your input values.\"\n",
    "    \n",
    "    total_cost=cost_of_event2+sales_tax2\n",
    "    \n",
    "    print(f\" Total number of guests: {num_of_people}\\n\",\n",
    "          f\"Type of event: {type_of_event}\\n\",\n",
    "          f\"Cost per person: {cost_per_person}\\n\",\n",
    "          f\"---------------------------\\n\",\n",
    "          f\"Cost of event: {cost_of_event2}\\n\",\n",
    "          f\"Sales tax: {sales_tax2}\\n\",\n",
    "          f\"---------------------------\\n\",\n",
    "          f\"Total cost: {total_cost}\")"
   ]
  },
  {
   "cell_type": "code",
   "execution_count": 65,
   "id": "86f4430c",
   "metadata": {},
   "outputs": [
    {
     "data": {
      "text/plain": [
       "'Please check your input values.'"
      ]
     },
     "execution_count": 65,
     "metadata": {},
     "output_type": "execute_result"
    }
   ],
   "source": [
    "event_calculator2(100, type=\"private\", cost=10, tax_rate=-7)"
   ]
  },
  {
   "cell_type": "code",
   "execution_count": null,
   "id": "4ccd6a6f",
   "metadata": {},
   "outputs": [],
   "source": []
  }
 ],
 "metadata": {
  "kernelspec": {
   "display_name": "Python 3",
   "language": "python",
   "name": "python3"
  },
  "language_info": {
   "codemirror_mode": {
    "name": "ipython",
    "version": 3
   },
   "file_extension": ".py",
   "mimetype": "text/x-python",
   "name": "python",
   "nbconvert_exporter": "python",
   "pygments_lexer": "ipython3",
   "version": "3.8.8"
  }
 },
 "nbformat": 4,
 "nbformat_minor": 5
}
